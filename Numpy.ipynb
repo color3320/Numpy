{
 "cells": [
  {
   "cell_type": "code",
   "execution_count": 1,
   "id": "c473a377",
   "metadata": {},
   "outputs": [],
   "source": [
    "import sys\n",
    "import numpy as np"
   ]
  },
  {
   "cell_type": "markdown",
   "id": "f058be92",
   "metadata": {},
   "source": [
    "## _Ideal Data Analysis Process_\n",
    "\n",
    "Data Extraction- SQL Database, Scrapping, Distributed Databases (File Format- CSV, JSON, XML)\n",
    " \n",
    "Data Cleaning - Missing values and empty data, Incorrect types/values, Outliners.\n",
    "\n",
    "Data Wrangling - Reshaping and transforming data, Indexing for quick access, Merging, combining and Joining data.\n",
    "\n",
    "Data Analysis - Exploration, Building statistical models, Visualisations and representations,Statistical Analysis, Reporting.\n",
    "\n",
    "Action - (Building ETL pipelines, ML models - Data Science) \n",
    "(Dashboards, Decision making assist - Data Analysis)\n"
   ]
  },
  {
   "cell_type": "markdown",
   "id": "74da2d07",
   "metadata": {},
   "source": [
    "## Numpy\n",
    "Library used for numeric calculations used for processing numbers because in python processing numbers is slow as compared to C++, Java. Numpy is an array processing library.\n"
   ]
  },
  {
   "cell_type": "markdown",
   "id": "39891c8d",
   "metadata": {},
   "source": [
    "### Why numpy over Python?"
   ]
  },
  {
   "cell_type": "markdown",
   "id": "96cecf42",
   "metadata": {},
   "source": [
    "#### 1 - Difference in size"
   ]
  },
  {
   "cell_type": "code",
   "execution_count": 2,
   "id": "ac30c3d7",
   "metadata": {},
   "outputs": [
    {
     "data": {
      "text/plain": [
       "28"
      ]
     },
     "execution_count": 2,
     "metadata": {},
     "output_type": "execute_result"
    }
   ],
   "source": [
    "sys.getsizeof(1)"
   ]
  },
  {
   "cell_type": "markdown",
   "id": "63517ae3",
   "metadata": {},
   "source": [
    "Here we can see python uses 28 bytes to store a single number which takes a lot od space, hence processing is slow."
   ]
  },
  {
   "cell_type": "code",
   "execution_count": 3,
   "id": "367cf75a",
   "metadata": {},
   "outputs": [
    {
     "data": {
      "text/plain": [
       "4"
      ]
     },
     "execution_count": 3,
     "metadata": {},
     "output_type": "execute_result"
    }
   ],
   "source": [
    "np.dtype(int).itemsize"
   ]
  },
  {
   "cell_type": "markdown",
   "id": "32cc2fb9",
   "metadata": {},
   "source": [
    "Here in numpy, it only uses 4 bytes (for 32x system) to store a single number.\n",
    "\n",
    "And we can also control how many byte a number will take to get stored by -"
   ]
  },
  {
   "cell_type": "code",
   "execution_count": 4,
   "id": "a27b4638",
   "metadata": {
    "scrolled": true
   },
   "outputs": [
    {
     "data": {
      "text/plain": [
       "1"
      ]
     },
     "execution_count": 4,
     "metadata": {},
     "output_type": "execute_result"
    }
   ],
   "source": [
    "np.dtype(np.int8).itemsize"
   ]
  },
  {
   "cell_type": "markdown",
   "id": "70d0710a",
   "metadata": {},
   "source": [
    "for memory size of Z numpy matrix"
   ]
  },
  {
   "cell_type": "code",
   "execution_count": 5,
   "id": "b661482c",
   "metadata": {},
   "outputs": [
    {
     "name": "stdout",
     "output_type": "stream",
     "text": [
      "800 bytes\n"
     ]
    }
   ],
   "source": [
    "Z = np.zeros((10,10))\n",
    "\n",
    "print(\"%d bytes\" % (Z.size * Z.itemsize))"
   ]
  },
  {
   "cell_type": "markdown",
   "id": "7a59c126",
   "metadata": {},
   "source": [
    "#### 2 - Difference in performance\n",
    "\n",
    "Consider a list of 1000 elements(python) and array of 1000 elements(numpy)"
   ]
  },
  {
   "cell_type": "code",
   "execution_count": 6,
   "id": "eafa6672",
   "metadata": {},
   "outputs": [],
   "source": [
    "l = list(range(100000))"
   ]
  },
  {
   "cell_type": "code",
   "execution_count": 7,
   "id": "a9586d6d",
   "metadata": {},
   "outputs": [],
   "source": [
    "y = np.arange(100000)"
   ]
  },
  {
   "cell_type": "code",
   "execution_count": 8,
   "id": "54e27d7a",
   "metadata": {},
   "outputs": [
    {
     "name": "stdout",
     "output_type": "stream",
     "text": [
      "CPU times: total: 31.2 ms\n",
      "Wall time: 38.9 ms\n"
     ]
    },
    {
     "data": {
      "text/plain": [
       "333328333350000"
      ]
     },
     "execution_count": 8,
     "metadata": {},
     "output_type": "execute_result"
    }
   ],
   "source": [
    "%time sum([x**2 for x in l]) #python"
   ]
  },
  {
   "cell_type": "code",
   "execution_count": 9,
   "id": "9d48c400",
   "metadata": {},
   "outputs": [
    {
     "name": "stdout",
     "output_type": "stream",
     "text": [
      "CPU times: total: 0 ns\n",
      "Wall time: 998 µs\n"
     ]
    },
    {
     "data": {
      "text/plain": [
       "216474736"
      ]
     },
     "execution_count": 9,
     "metadata": {},
     "output_type": "execute_result"
    }
   ],
   "source": [
    "%time np.sum(y**2) #numpy"
   ]
  },
  {
   "cell_type": "markdown",
   "id": "c006302c",
   "metadata": {},
   "source": [
    "Here we can see numpy operations are significantly faster than python"
   ]
  },
  {
   "cell_type": "markdown",
   "id": "33b9a719",
   "metadata": {},
   "source": [
    "### Basic Numpy Arrays"
   ]
  },
  {
   "cell_type": "code",
   "execution_count": 10,
   "id": "29134356",
   "metadata": {},
   "outputs": [],
   "source": [
    "a = np.array([1,2,3,4,5])\n",
    "b = np.array([0,0.5,1.5,2])"
   ]
  },
  {
   "cell_type": "markdown",
   "id": "9102005b",
   "metadata": {},
   "source": [
    "To get values in position 1 and 2 in an array we can -"
   ]
  },
  {
   "cell_type": "code",
   "execution_count": 11,
   "id": "bbcb9d6e",
   "metadata": {
    "scrolled": false
   },
   "outputs": [
    {
     "data": {
      "text/plain": [
       "(1, 2)"
      ]
     },
     "execution_count": 11,
     "metadata": {},
     "output_type": "execute_result"
    }
   ],
   "source": [
    "a[0] , a[1]"
   ]
  },
  {
   "cell_type": "markdown",
   "id": "9594cb33",
   "metadata": {},
   "source": [
    "### Indexing - "
   ]
  },
  {
   "cell_type": "code",
   "execution_count": 12,
   "id": "ebe09c5e",
   "metadata": {},
   "outputs": [
    {
     "data": {
      "text/plain": [
       "array([3, 4, 5])"
      ]
     },
     "execution_count": 12,
     "metadata": {},
     "output_type": "execute_result"
    }
   ],
   "source": [
    "a[2:]  #to show element from position 2"
   ]
  },
  {
   "cell_type": "code",
   "execution_count": 13,
   "id": "cc87c37e",
   "metadata": {},
   "outputs": [
    {
     "data": {
      "text/plain": [
       "array([2, 3, 4, 5])"
      ]
     },
     "execution_count": 13,
     "metadata": {},
     "output_type": "execute_result"
    }
   ],
   "source": [
    "a[1:5] #to show element from position 1 to 5"
   ]
  },
  {
   "cell_type": "code",
   "execution_count": 14,
   "id": "3d64785f",
   "metadata": {
    "scrolled": true
   },
   "outputs": [
    {
     "data": {
      "text/plain": [
       "array([2, 3, 4])"
      ]
     },
     "execution_count": 14,
     "metadata": {},
     "output_type": "execute_result"
    }
   ],
   "source": [
    "a[1:-1] #To show all middle elements"
   ]
  },
  {
   "cell_type": "code",
   "execution_count": 15,
   "id": "985f362a",
   "metadata": {},
   "outputs": [
    {
     "data": {
      "text/plain": [
       "5"
      ]
     },
     "execution_count": 15,
     "metadata": {},
     "output_type": "execute_result"
    }
   ],
   "source": [
    "a[-1] #to show last element of an array"
   ]
  },
  {
   "cell_type": "code",
   "execution_count": 16,
   "id": "c91d2561",
   "metadata": {},
   "outputs": [
    {
     "data": {
      "text/plain": [
       "array([5, 4, 3, 2, 1])"
      ]
     },
     "execution_count": 16,
     "metadata": {},
     "output_type": "execute_result"
    }
   ],
   "source": [
    "a[::-1] #to show elements in reverse order"
   ]
  },
  {
   "cell_type": "markdown",
   "id": "b0a9ec3d",
   "metadata": {},
   "source": [
    "### Array Manipulation"
   ]
  },
  {
   "cell_type": "code",
   "execution_count": 17,
   "id": "d9d00dd9",
   "metadata": {},
   "outputs": [],
   "source": [
    "a.sort() #sorts array in ascending order"
   ]
  },
  {
   "cell_type": "code",
   "execution_count": 18,
   "id": "6a35e91f",
   "metadata": {},
   "outputs": [
    {
     "data": {
      "text/plain": [
       "array([1, 2, 3, 4, 5])"
      ]
     },
     "execution_count": 18,
     "metadata": {},
     "output_type": "execute_result"
    }
   ],
   "source": [
    "a"
   ]
  },
  {
   "cell_type": "code",
   "execution_count": 19,
   "id": "eb9860b3",
   "metadata": {},
   "outputs": [
    {
     "data": {
      "text/plain": [
       "array([1, 2, 3, 1, 5])"
      ]
     },
     "execution_count": 19,
     "metadata": {},
     "output_type": "execute_result"
    }
   ],
   "source": [
    "a[3] = 1 #makes 3rd postion in array a = 1\n",
    "a"
   ]
  },
  {
   "cell_type": "code",
   "execution_count": null,
   "id": "c57554c2",
   "metadata": {},
   "outputs": [],
   "source": []
  },
  {
   "cell_type": "markdown",
   "id": "cd31b4df",
   "metadata": {},
   "source": [
    "### Extracting elements from an array by 2 ways -"
   ]
  },
  {
   "cell_type": "markdown",
   "id": "efafa31f",
   "metadata": {},
   "source": [
    "Traditional way"
   ]
  },
  {
   "cell_type": "code",
   "execution_count": 20,
   "id": "9f0f7fe2",
   "metadata": {},
   "outputs": [
    {
     "data": {
      "text/plain": [
       "(1, 3, 5)"
      ]
     },
     "execution_count": 20,
     "metadata": {},
     "output_type": "execute_result"
    }
   ],
   "source": [
    "a[0],a[2],a[4]"
   ]
  },
  {
   "cell_type": "markdown",
   "id": "9e2c042b",
   "metadata": {},
   "source": [
    "Multi Indexing (Creates another array instead of list) -"
   ]
  },
  {
   "cell_type": "code",
   "execution_count": 21,
   "id": "647b9eb1",
   "metadata": {},
   "outputs": [
    {
     "data": {
      "text/plain": [
       "array([1, 3, 1])"
      ]
     },
     "execution_count": 21,
     "metadata": {},
     "output_type": "execute_result"
    }
   ],
   "source": [
    "a[[0,2,3]]"
   ]
  },
  {
   "cell_type": "markdown",
   "id": "cd751704",
   "metadata": {},
   "source": [
    "### Array Types "
   ]
  },
  {
   "cell_type": "code",
   "execution_count": 22,
   "id": "f9448527",
   "metadata": {},
   "outputs": [
    {
     "data": {
      "text/plain": [
       "dtype('int32')"
      ]
     },
     "execution_count": 22,
     "metadata": {},
     "output_type": "execute_result"
    }
   ],
   "source": [
    "a.dtype"
   ]
  },
  {
   "cell_type": "code",
   "execution_count": 23,
   "id": "a145dbda",
   "metadata": {},
   "outputs": [
    {
     "data": {
      "text/plain": [
       "dtype('float64')"
      ]
     },
     "execution_count": 23,
     "metadata": {},
     "output_type": "execute_result"
    }
   ],
   "source": [
    "b.dtype"
   ]
  },
  {
   "cell_type": "markdown",
   "id": "9b5264ca",
   "metadata": {},
   "source": [
    "To convert in32 to float similar step can be used to convert from float64 to int32"
   ]
  },
  {
   "cell_type": "code",
   "execution_count": 24,
   "id": "50bcf1d5",
   "metadata": {},
   "outputs": [
    {
     "data": {
      "text/plain": [
       "array([1., 2., 3., 4.])"
      ]
     },
     "execution_count": 24,
     "metadata": {},
     "output_type": "execute_result"
    }
   ],
   "source": [
    "np.array([1,2,3,4], dtype=np.float64)"
   ]
  },
  {
   "cell_type": "markdown",
   "id": "8a873b49",
   "metadata": {},
   "source": [
    "#### Idea of numpy is that you can create multidimensional arrays \n",
    "Eg - 2 dimensional array"
   ]
  },
  {
   "cell_type": "code",
   "execution_count": 25,
   "id": "2a04055c",
   "metadata": {},
   "outputs": [],
   "source": [
    "A = np.array([\n",
    "    [1,2,3],\n",
    "    [3,5,1]\n",
    "])"
   ]
  },
  {
   "cell_type": "code",
   "execution_count": 26,
   "id": "686e6fd8",
   "metadata": {},
   "outputs": [
    {
     "data": {
      "text/plain": [
       "array([[1, 2, 3],\n",
       "       [3, 5, 1]])"
      ]
     },
     "execution_count": 26,
     "metadata": {},
     "output_type": "execute_result"
    }
   ],
   "source": [
    "A"
   ]
  },
  {
   "cell_type": "markdown",
   "id": "2523ff41",
   "metadata": {},
   "source": [
    "2 rows and 3 columns"
   ]
  },
  {
   "cell_type": "code",
   "execution_count": 27,
   "id": "95b7d621",
   "metadata": {},
   "outputs": [
    {
     "data": {
      "text/plain": [
       "(2, 3)"
      ]
     },
     "execution_count": 27,
     "metadata": {},
     "output_type": "execute_result"
    }
   ],
   "source": [
    "A.shape"
   ]
  },
  {
   "cell_type": "code",
   "execution_count": 28,
   "id": "de3521d2",
   "metadata": {},
   "outputs": [
    {
     "data": {
      "text/plain": [
       "6"
      ]
     },
     "execution_count": 28,
     "metadata": {},
     "output_type": "execute_result"
    }
   ],
   "source": [
    "A.size"
   ]
  },
  {
   "cell_type": "code",
   "execution_count": 29,
   "id": "064c5a50",
   "metadata": {},
   "outputs": [
    {
     "data": {
      "text/plain": [
       "2"
      ]
     },
     "execution_count": 29,
     "metadata": {},
     "output_type": "execute_result"
    }
   ],
   "source": [
    "A.ndim #2 dimensional array"
   ]
  },
  {
   "cell_type": "markdown",
   "id": "d12e332f",
   "metadata": {},
   "source": [
    "3 Dimensional Array"
   ]
  },
  {
   "cell_type": "code",
   "execution_count": 30,
   "id": "f7e0ea44",
   "metadata": {},
   "outputs": [],
   "source": [
    "B = np.array([\n",
    "    [\n",
    "        [1,3,5],\n",
    "        [2,4,5],\n",
    "    ],\n",
    "    [\n",
    "        [3,1,4],\n",
    "        [1,4,3]\n",
    "    ]\n",
    "])"
   ]
  },
  {
   "cell_type": "code",
   "execution_count": 31,
   "id": "28fa86d9",
   "metadata": {},
   "outputs": [
    {
     "data": {
      "text/plain": [
       "array([[[1, 3, 5],\n",
       "        [2, 4, 5]],\n",
       "\n",
       "       [[3, 1, 4],\n",
       "        [1, 4, 3]]])"
      ]
     },
     "execution_count": 31,
     "metadata": {},
     "output_type": "execute_result"
    }
   ],
   "source": [
    "B"
   ]
  },
  {
   "cell_type": "code",
   "execution_count": 32,
   "id": "61d46d34",
   "metadata": {},
   "outputs": [
    {
     "data": {
      "text/plain": [
       "(2, 2, 3)"
      ]
     },
     "execution_count": 32,
     "metadata": {},
     "output_type": "execute_result"
    }
   ],
   "source": [
    "B.shape\n"
   ]
  },
  {
   "cell_type": "code",
   "execution_count": 33,
   "id": "8a8b6ace",
   "metadata": {},
   "outputs": [
    {
     "data": {
      "text/plain": [
       "12"
      ]
     },
     "execution_count": 33,
     "metadata": {},
     "output_type": "execute_result"
    }
   ],
   "source": [
    "B.size"
   ]
  },
  {
   "cell_type": "code",
   "execution_count": 34,
   "id": "340447f9",
   "metadata": {},
   "outputs": [
    {
     "data": {
      "text/plain": [
       "3"
      ]
     },
     "execution_count": 34,
     "metadata": {},
     "output_type": "execute_result"
    }
   ],
   "source": [
    "B.ndim #3 dimesional array"
   ]
  },
  {
   "cell_type": "markdown",
   "id": "232ada03",
   "metadata": {},
   "source": [
    "### Indexing and Slicing of Matrix"
   ]
  },
  {
   "cell_type": "code",
   "execution_count": 35,
   "id": "108a5526",
   "metadata": {},
   "outputs": [],
   "source": [
    "C = np.array([\n",
    "#    0 1 2 \n",
    "    [1,3,5], #0\n",
    "    [4,2,6], #1\n",
    "    [4,1,2]  #2\n",
    "])"
   ]
  },
  {
   "cell_type": "code",
   "execution_count": 36,
   "id": "843c6efe",
   "metadata": {},
   "outputs": [
    {
     "data": {
      "text/plain": [
       "array([4, 2, 6])"
      ]
     },
     "execution_count": 36,
     "metadata": {},
     "output_type": "execute_result"
    }
   ],
   "source": [
    "#[row][column]\n",
    "C[1] #gives #1 "
   ]
  },
  {
   "cell_type": "code",
   "execution_count": 37,
   "id": "4b38e094",
   "metadata": {},
   "outputs": [
    {
     "data": {
      "text/plain": [
       "4"
      ]
     },
     "execution_count": 37,
     "metadata": {},
     "output_type": "execute_result"
    }
   ],
   "source": [
    "C[1][0] #give value from 2nd row 1st column"
   ]
  },
  {
   "cell_type": "code",
   "execution_count": 38,
   "id": "c339fd57",
   "metadata": {},
   "outputs": [
    {
     "data": {
      "text/plain": [
       "4"
      ]
     },
     "execution_count": 38,
     "metadata": {},
     "output_type": "execute_result"
    }
   ],
   "source": [
    "C[1,0] #give value from 2nd row 1st column"
   ]
  },
  {
   "cell_type": "code",
   "execution_count": 39,
   "id": "c783a7ca",
   "metadata": {},
   "outputs": [
    {
     "data": {
      "text/plain": [
       "array([[2]])"
      ]
     },
     "execution_count": 39,
     "metadata": {},
     "output_type": "execute_result"
    }
   ],
   "source": [
    "C[1:-1,1:-1] #gives middle element of matrix"
   ]
  },
  {
   "cell_type": "code",
   "execution_count": 40,
   "id": "e2cfa80f",
   "metadata": {},
   "outputs": [
    {
     "data": {
      "text/plain": [
       "array([[1, 3, 5],\n",
       "       [4, 2, 6]])"
      ]
     },
     "execution_count": 40,
     "metadata": {},
     "output_type": "execute_result"
    }
   ],
   "source": [
    "C[0:2] #gives row 1 and row 2"
   ]
  },
  {
   "cell_type": "code",
   "execution_count": 41,
   "id": "064246f3",
   "metadata": {},
   "outputs": [
    {
     "data": {
      "text/plain": [
       "array([[1, 3],\n",
       "       [4, 2],\n",
       "       [4, 1]])"
      ]
     },
     "execution_count": 41,
     "metadata": {},
     "output_type": "execute_result"
    }
   ],
   "source": [
    "C[:, :2] #gives column 1 and column 2"
   ]
  },
  {
   "cell_type": "code",
   "execution_count": 42,
   "id": "d45ed26d",
   "metadata": {},
   "outputs": [
    {
     "data": {
      "text/plain": [
       "array([[3, 5],\n",
       "       [2, 6],\n",
       "       [1, 2]])"
      ]
     },
     "execution_count": 42,
     "metadata": {},
     "output_type": "execute_result"
    }
   ],
   "source": [
    "C[:, 1:3]"
   ]
  },
  {
   "cell_type": "markdown",
   "id": "87156c3a",
   "metadata": {},
   "source": [
    "#### To assign an new array to a row in matrix"
   ]
  },
  {
   "cell_type": "code",
   "execution_count": 43,
   "id": "7cf09a12",
   "metadata": {},
   "outputs": [],
   "source": [
    "C[1] = np.array([0,1,3])"
   ]
  },
  {
   "cell_type": "code",
   "execution_count": 44,
   "id": "6779faff",
   "metadata": {},
   "outputs": [
    {
     "data": {
      "text/plain": [
       "array([[1, 3, 5],\n",
       "       [0, 1, 3],\n",
       "       [4, 1, 2]])"
      ]
     },
     "execution_count": 44,
     "metadata": {},
     "output_type": "execute_result"
    }
   ],
   "source": [
    "C"
   ]
  },
  {
   "cell_type": "markdown",
   "id": "c7592fcb",
   "metadata": {},
   "source": [
    "#### If u want to assign same values in a row "
   ]
  },
  {
   "cell_type": "code",
   "execution_count": 45,
   "id": "7089bddd",
   "metadata": {},
   "outputs": [],
   "source": [
    "C[2] = 69"
   ]
  },
  {
   "cell_type": "code",
   "execution_count": 46,
   "id": "987d24de",
   "metadata": {},
   "outputs": [
    {
     "data": {
      "text/plain": [
       "array([[ 1,  3,  5],\n",
       "       [ 0,  1,  3],\n",
       "       [69, 69, 69]])"
      ]
     },
     "execution_count": 46,
     "metadata": {},
     "output_type": "execute_result"
    }
   ],
   "source": [
    "C"
   ]
  },
  {
   "cell_type": "code",
   "execution_count": 47,
   "id": "30cbad42",
   "metadata": {},
   "outputs": [
    {
     "data": {
      "text/plain": [
       "(3, 3)"
      ]
     },
     "execution_count": 47,
     "metadata": {},
     "output_type": "execute_result"
    }
   ],
   "source": [
    "C.shape"
   ]
  },
  {
   "cell_type": "code",
   "execution_count": 48,
   "id": "34166792",
   "metadata": {},
   "outputs": [
    {
     "data": {
      "text/plain": [
       "9"
      ]
     },
     "execution_count": 48,
     "metadata": {},
     "output_type": "execute_result"
    }
   ],
   "source": [
    "C.size"
   ]
  },
  {
   "cell_type": "markdown",
   "id": "8b41010a",
   "metadata": {},
   "source": [
    "#### To copy an array to differnt array -"
   ]
  },
  {
   "cell_type": "code",
   "execution_count": 49,
   "id": "00d40e82",
   "metadata": {},
   "outputs": [
    {
     "name": "stdout",
     "output_type": "stream",
     "text": [
      "[1, 2, 3] <class 'list'>\n"
     ]
    }
   ],
   "source": [
    "X = [1,2,3]\n",
    "print(X,type(X))"
   ]
  },
  {
   "cell_type": "code",
   "execution_count": 50,
   "id": "9199cbb3",
   "metadata": {},
   "outputs": [
    {
     "name": "stdout",
     "output_type": "stream",
     "text": [
      "[1 2 3] <class 'numpy.ndarray'>\n"
     ]
    }
   ],
   "source": [
    "Y = np.array(X)\n",
    "print(Y,type(Y))"
   ]
  },
  {
   "cell_type": "code",
   "execution_count": 51,
   "id": "76e67fc2",
   "metadata": {},
   "outputs": [],
   "source": [
    "X = np.array([4,5,6])"
   ]
  },
  {
   "cell_type": "markdown",
   "id": "41839411",
   "metadata": {},
   "source": [
    "#### To convert list to a numpy array"
   ]
  },
  {
   "cell_type": "code",
   "execution_count": 52,
   "id": "21dd156b",
   "metadata": {
    "scrolled": true
   },
   "outputs": [
    {
     "name": "stdout",
     "output_type": "stream",
     "text": [
      "[4 5 6]\n"
     ]
    }
   ],
   "source": [
    "Y = np.copy(X)\n",
    "print(Y)"
   ]
  },
  {
   "cell_type": "markdown",
   "id": "a4523d5e",
   "metadata": {},
   "source": [
    "#### Create a numpy array with numbers from 1 to 10, in descending order."
   ]
  },
  {
   "cell_type": "code",
   "execution_count": 53,
   "id": "b48ddecb",
   "metadata": {},
   "outputs": [
    {
     "data": {
      "text/plain": [
       "array([10,  9,  8,  7,  6,  5,  4,  3,  2,  1])"
      ]
     },
     "execution_count": 53,
     "metadata": {},
     "output_type": "execute_result"
    }
   ],
   "source": [
    "np.arange(1, 11)[::-1]"
   ]
  },
  {
   "cell_type": "markdown",
   "id": "de10ba51",
   "metadata": {},
   "source": [
    "### Summary Statistics -  "
   ]
  },
  {
   "cell_type": "code",
   "execution_count": 54,
   "id": "3d80b158",
   "metadata": {},
   "outputs": [],
   "source": [
    "a = np.array([1,4,2,5,6])"
   ]
  },
  {
   "cell_type": "code",
   "execution_count": 55,
   "id": "aa06dab8",
   "metadata": {},
   "outputs": [
    {
     "data": {
      "text/plain": [
       "array([1, 4, 2, 5, 6])"
      ]
     },
     "execution_count": 55,
     "metadata": {},
     "output_type": "execute_result"
    }
   ],
   "source": [
    "a"
   ]
  },
  {
   "cell_type": "markdown",
   "id": "ae8634f4",
   "metadata": {},
   "source": [
    "### Basic Arithematic Operations - "
   ]
  },
  {
   "cell_type": "code",
   "execution_count": 56,
   "id": "6c725de0",
   "metadata": {},
   "outputs": [
    {
     "data": {
      "text/plain": [
       "18"
      ]
     },
     "execution_count": 56,
     "metadata": {},
     "output_type": "execute_result"
    }
   ],
   "source": [
    "a.sum()"
   ]
  },
  {
   "cell_type": "code",
   "execution_count": 57,
   "id": "f9f665b9",
   "metadata": {},
   "outputs": [
    {
     "data": {
      "text/plain": [
       "3.6"
      ]
     },
     "execution_count": 57,
     "metadata": {},
     "output_type": "execute_result"
    }
   ],
   "source": [
    "a.mean()"
   ]
  },
  {
   "cell_type": "code",
   "execution_count": 58,
   "id": "f50c8d22",
   "metadata": {},
   "outputs": [
    {
     "data": {
      "text/plain": [
       "1.8547236990991407"
      ]
     },
     "execution_count": 58,
     "metadata": {},
     "output_type": "execute_result"
    }
   ],
   "source": [
    "a.std()"
   ]
  },
  {
   "cell_type": "code",
   "execution_count": 59,
   "id": "472aabb9",
   "metadata": {},
   "outputs": [
    {
     "data": {
      "text/plain": [
       "3.44"
      ]
     },
     "execution_count": 59,
     "metadata": {},
     "output_type": "execute_result"
    }
   ],
   "source": [
    "a.var()"
   ]
  },
  {
   "cell_type": "code",
   "execution_count": 60,
   "id": "d3a5972b",
   "metadata": {},
   "outputs": [
    {
     "data": {
      "text/plain": [
       "array([[ 1,  3,  5],\n",
       "       [ 0,  1,  3],\n",
       "       [69, 69, 69]])"
      ]
     },
     "execution_count": 60,
     "metadata": {},
     "output_type": "execute_result"
    }
   ],
   "source": [
    "C"
   ]
  },
  {
   "cell_type": "code",
   "execution_count": 61,
   "id": "c09b805c",
   "metadata": {},
   "outputs": [
    {
     "data": {
      "text/plain": [
       "220"
      ]
     },
     "execution_count": 61,
     "metadata": {},
     "output_type": "execute_result"
    }
   ],
   "source": [
    "C.sum()"
   ]
  },
  {
   "cell_type": "code",
   "execution_count": 62,
   "id": "78227df7",
   "metadata": {},
   "outputs": [
    {
     "data": {
      "text/plain": [
       "array([70, 73, 77])"
      ]
     },
     "execution_count": 62,
     "metadata": {},
     "output_type": "execute_result"
    }
   ],
   "source": [
    "C.sum(axis=0)"
   ]
  },
  {
   "cell_type": "markdown",
   "id": "aac9ced4",
   "metadata": {},
   "source": [
    "here 70 is sum of first column,73 second and so on"
   ]
  },
  {
   "cell_type": "code",
   "execution_count": 63,
   "id": "db8d359d",
   "metadata": {},
   "outputs": [
    {
     "data": {
      "text/plain": [
       "array([  9,   4, 207])"
      ]
     },
     "execution_count": 63,
     "metadata": {},
     "output_type": "execute_result"
    }
   ],
   "source": [
    "C.sum(axis=1)"
   ]
  },
  {
   "cell_type": "markdown",
   "id": "88c398c6",
   "metadata": {},
   "source": [
    "Here 9 is sum of first row, 4 second and so on\n",
    "\n",
    "Other statistical calculation can also be done the same way by just replacing \"sum\""
   ]
  },
  {
   "cell_type": "code",
   "execution_count": 64,
   "id": "da39a55e",
   "metadata": {},
   "outputs": [
    {
     "data": {
      "text/plain": [
       "2"
      ]
     },
     "execution_count": 64,
     "metadata": {},
     "output_type": "execute_result"
    }
   ],
   "source": [
    "C.ndim"
   ]
  },
  {
   "cell_type": "markdown",
   "id": "2231f8c1",
   "metadata": {},
   "source": [
    "Here C is 2 dimensional hence axis values can be either 0 or 1"
   ]
  },
  {
   "cell_type": "markdown",
   "id": "16480bdb",
   "metadata": {},
   "source": [
    "### Basic Mathematics\n",
    "_(Main use of numpy)_"
   ]
  },
  {
   "cell_type": "code",
   "execution_count": 65,
   "id": "a4b88410",
   "metadata": {},
   "outputs": [
    {
     "data": {
      "text/plain": [
       "array([1, 4, 2, 5, 6])"
      ]
     },
     "execution_count": 65,
     "metadata": {},
     "output_type": "execute_result"
    }
   ],
   "source": [
    "a"
   ]
  },
  {
   "cell_type": "code",
   "execution_count": 66,
   "id": "37167766",
   "metadata": {},
   "outputs": [
    {
     "data": {
      "text/plain": [
       "array([11, 14, 12, 15, 16])"
      ]
     },
     "execution_count": 66,
     "metadata": {},
     "output_type": "execute_result"
    }
   ],
   "source": [
    "a+10"
   ]
  },
  {
   "cell_type": "markdown",
   "id": "1736475b",
   "metadata": {},
   "source": [
    "This is an example of vectorizing a number in which it is added to each element of an array"
   ]
  },
  {
   "cell_type": "code",
   "execution_count": 67,
   "id": "74c6b255",
   "metadata": {},
   "outputs": [
    {
     "data": {
      "text/plain": [
       "array([1, 4, 2, 5, 6])"
      ]
     },
     "execution_count": 67,
     "metadata": {},
     "output_type": "execute_result"
    }
   ],
   "source": [
    "a"
   ]
  },
  {
   "cell_type": "markdown",
   "id": "38ca0733",
   "metadata": {},
   "source": [
    "As numpy is an immutable first library any operations done on an array will not modify the original value of an array.\n",
    "\n",
    "To modify we use broadcating operation"
   ]
  },
  {
   "cell_type": "code",
   "execution_count": 68,
   "id": "74c30757",
   "metadata": {},
   "outputs": [],
   "source": [
    "a += 10"
   ]
  },
  {
   "cell_type": "code",
   "execution_count": 69,
   "id": "70c5bca4",
   "metadata": {},
   "outputs": [
    {
     "data": {
      "text/plain": [
       "array([11, 14, 12, 15, 16])"
      ]
     },
     "execution_count": 69,
     "metadata": {},
     "output_type": "execute_result"
    }
   ],
   "source": [
    "a"
   ]
  },
  {
   "cell_type": "markdown",
   "id": "eab2255b",
   "metadata": {},
   "source": [
    "We use numpy for array operations because in python to modify value in an array we have to use loops"
   ]
  },
  {
   "cell_type": "code",
   "execution_count": 70,
   "id": "9ddaba60",
   "metadata": {},
   "outputs": [],
   "source": [
    "c = np.array([0,11,1.4,1.6,2.4])"
   ]
  },
  {
   "cell_type": "code",
   "execution_count": 71,
   "id": "6c4c8fae",
   "metadata": {},
   "outputs": [
    {
     "data": {
      "text/plain": [
       "array([11. , 25. , 13.4, 16.6, 18.4])"
      ]
     },
     "execution_count": 71,
     "metadata": {},
     "output_type": "execute_result"
    }
   ],
   "source": [
    "a+c"
   ]
  },
  {
   "cell_type": "code",
   "execution_count": 72,
   "id": "fc9f2ff3",
   "metadata": {},
   "outputs": [
    {
     "data": {
      "text/plain": [
       "array([-0.99999021,  0.99060736, -0.53657292,  0.65028784, -0.28790332])"
      ]
     },
     "execution_count": 72,
     "metadata": {},
     "output_type": "execute_result"
    }
   ],
   "source": [
    "np.sin(a)"
   ]
  },
  {
   "cell_type": "markdown",
   "id": "f3894a2b",
   "metadata": {},
   "source": [
    "### Boolean Arrays\n",
    "_Also called as masks_"
   ]
  },
  {
   "cell_type": "markdown",
   "id": "97396045",
   "metadata": {},
   "source": [
    "#### Selecting element in an array with boolean values i.e true or false"
   ]
  },
  {
   "cell_type": "code",
   "execution_count": 73,
   "id": "d01566fd",
   "metadata": {},
   "outputs": [
    {
     "data": {
      "text/plain": [
       "array([11, 14, 12, 15, 16])"
      ]
     },
     "execution_count": 73,
     "metadata": {},
     "output_type": "execute_result"
    }
   ],
   "source": [
    "a"
   ]
  },
  {
   "cell_type": "code",
   "execution_count": 74,
   "id": "a5315aa6",
   "metadata": {},
   "outputs": [
    {
     "data": {
      "text/plain": [
       "array([11, 15, 16])"
      ]
     },
     "execution_count": 74,
     "metadata": {},
     "output_type": "execute_result"
    }
   ],
   "source": [
    "a[[True,False,False,True,True]]"
   ]
  },
  {
   "cell_type": "code",
   "execution_count": 75,
   "id": "66e85db8",
   "metadata": {},
   "outputs": [
    {
     "data": {
      "text/plain": [
       "array([ True, False,  True, False, False])"
      ]
     },
     "execution_count": 75,
     "metadata": {},
     "output_type": "execute_result"
    }
   ],
   "source": [
    "a<=12"
   ]
  },
  {
   "cell_type": "code",
   "execution_count": 76,
   "id": "87bbcb43",
   "metadata": {},
   "outputs": [
    {
     "data": {
      "text/plain": [
       "array([11, 12])"
      ]
     },
     "execution_count": 76,
     "metadata": {},
     "output_type": "execute_result"
    }
   ],
   "source": [
    "a[a<=12]"
   ]
  },
  {
   "cell_type": "code",
   "execution_count": 77,
   "id": "293d7093",
   "metadata": {},
   "outputs": [
    {
     "data": {
      "text/plain": [
       "array([14, 15])"
      ]
     },
     "execution_count": 77,
     "metadata": {},
     "output_type": "execute_result"
    }
   ],
   "source": [
    "a[(a>12)&(a<16)]"
   ]
  },
  {
   "cell_type": "markdown",
   "id": "8c1b720c",
   "metadata": {},
   "source": [
    "The advantage is that we can quickly filter/select"
   ]
  },
  {
   "cell_type": "code",
   "execution_count": 78,
   "id": "90bfb1b7",
   "metadata": {},
   "outputs": [
    {
     "data": {
      "text/plain": [
       "13.6"
      ]
     },
     "execution_count": 78,
     "metadata": {},
     "output_type": "execute_result"
    }
   ],
   "source": [
    "a.mean()"
   ]
  },
  {
   "cell_type": "code",
   "execution_count": 79,
   "id": "75c5ece5",
   "metadata": {},
   "outputs": [
    {
     "data": {
      "text/plain": [
       "array([11, 14, 12, 15, 16])"
      ]
     },
     "execution_count": 79,
     "metadata": {},
     "output_type": "execute_result"
    }
   ],
   "source": [
    "a"
   ]
  },
  {
   "cell_type": "code",
   "execution_count": 80,
   "id": "a9f994b4",
   "metadata": {},
   "outputs": [
    {
     "data": {
      "text/plain": [
       "array([14, 15, 16])"
      ]
     },
     "execution_count": 80,
     "metadata": {},
     "output_type": "execute_result"
    }
   ],
   "source": [
    "a[(a>a.mean())]"
   ]
  },
  {
   "cell_type": "code",
   "execution_count": 81,
   "id": "20f199ed",
   "metadata": {},
   "outputs": [
    {
     "data": {
      "text/plain": [
       "array([11, 14, 12])"
      ]
     },
     "execution_count": 81,
     "metadata": {},
     "output_type": "execute_result"
    }
   ],
   "source": [
    "a[(a<=14)&(a>=11)]"
   ]
  },
  {
   "cell_type": "markdown",
   "id": "aa9cc39a",
   "metadata": {},
   "source": [
    "### Linear Algebra\n",
    "Dot product, cross product, transpose"
   ]
  },
  {
   "cell_type": "code",
   "execution_count": 82,
   "id": "76117f57",
   "metadata": {},
   "outputs": [],
   "source": [
    "A = np.array([\n",
    "    [1,2,6],\n",
    "    [4,12,4],\n",
    "    [7,2,17]\n",
    "])"
   ]
  },
  {
   "cell_type": "code",
   "execution_count": 83,
   "id": "848a99b2",
   "metadata": {},
   "outputs": [
    {
     "data": {
      "text/plain": [
       "array([[ 1,  2,  6],\n",
       "       [ 4, 12,  4],\n",
       "       [ 7,  2, 17]])"
      ]
     },
     "execution_count": 83,
     "metadata": {},
     "output_type": "execute_result"
    }
   ],
   "source": [
    "A"
   ]
  },
  {
   "cell_type": "code",
   "execution_count": 84,
   "id": "55c75613",
   "metadata": {
    "scrolled": true
   },
   "outputs": [
    {
     "data": {
      "text/plain": [
       "array([[ 1,  3,  5],\n",
       "       [ 0,  1,  3],\n",
       "       [69, 69, 69]])"
      ]
     },
     "execution_count": 84,
     "metadata": {},
     "output_type": "execute_result"
    }
   ],
   "source": [
    "C"
   ]
  },
  {
   "cell_type": "code",
   "execution_count": 85,
   "id": "eee9a0e2",
   "metadata": {},
   "outputs": [
    {
     "data": {
      "text/plain": [
       "array([[ 415,  419,  425],\n",
       "       [ 280,  300,  332],\n",
       "       [1180, 1196, 1214]])"
      ]
     },
     "execution_count": 85,
     "metadata": {},
     "output_type": "execute_result"
    }
   ],
   "source": [
    "np.matmul(A,C)          #or"
   ]
  },
  {
   "cell_type": "code",
   "execution_count": 86,
   "id": "f12f2f91",
   "metadata": {},
   "outputs": [
    {
     "data": {
      "text/plain": [
       "array([[ 415,  419,  425],\n",
       "       [ 280,  300,  332],\n",
       "       [1180, 1196, 1214]])"
      ]
     },
     "execution_count": 86,
     "metadata": {},
     "output_type": "execute_result"
    }
   ],
   "source": [
    "A.dot(C)"
   ]
  },
  {
   "cell_type": "code",
   "execution_count": 87,
   "id": "bd5523bb",
   "metadata": {},
   "outputs": [
    {
     "data": {
      "text/plain": [
       "array([[ 415,  419,  425],\n",
       "       [ 280,  300,  332],\n",
       "       [1180, 1196, 1214]])"
      ]
     },
     "execution_count": 87,
     "metadata": {},
     "output_type": "execute_result"
    }
   ],
   "source": [
    "A@C"
   ]
  },
  {
   "cell_type": "code",
   "execution_count": 88,
   "id": "3b2df9cc",
   "metadata": {},
   "outputs": [
    {
     "data": {
      "text/plain": [
       "array([[ 1,  4,  7],\n",
       "       [ 2, 12,  2],\n",
       "       [ 6,  4, 17]])"
      ]
     },
     "execution_count": 88,
     "metadata": {},
     "output_type": "execute_result"
    }
   ],
   "source": [
    "A.T"
   ]
  },
  {
   "cell_type": "code",
   "execution_count": 89,
   "id": "1e1e0e09",
   "metadata": {},
   "outputs": [
    {
     "data": {
      "text/plain": [
       "array([[ 484,  140, 1179],\n",
       "       [ 490,  156, 1195],\n",
       "       [ 500,  184, 1215]])"
      ]
     },
     "execution_count": 89,
     "metadata": {},
     "output_type": "execute_result"
    }
   ],
   "source": [
    "C.T@A"
   ]
  },
  {
   "cell_type": "markdown",
   "id": "c7b84068",
   "metadata": {},
   "source": [
    "### Reorganizing/ Reshaping arrays"
   ]
  },
  {
   "cell_type": "code",
   "execution_count": 90,
   "id": "2286c2fd",
   "metadata": {},
   "outputs": [
    {
     "data": {
      "text/plain": [
       "array([[ 1,  2, 34,  5],\n",
       "       [ 4,  5,  3,  1]])"
      ]
     },
     "execution_count": 90,
     "metadata": {},
     "output_type": "execute_result"
    }
   ],
   "source": [
    "tp = np.array([[1,2,34,5],[4,5,3,1]])\n",
    "tp"
   ]
  },
  {
   "cell_type": "code",
   "execution_count": 91,
   "id": "07856db6",
   "metadata": {},
   "outputs": [
    {
     "data": {
      "text/plain": [
       "array([[ 1],\n",
       "       [ 2],\n",
       "       [34],\n",
       "       [ 5],\n",
       "       [ 4],\n",
       "       [ 5],\n",
       "       [ 3],\n",
       "       [ 1]])"
      ]
     },
     "execution_count": 91,
     "metadata": {},
     "output_type": "execute_result"
    }
   ],
   "source": [
    "#To make this array into 8x1,4x2,2x2x2....as long as \n",
    "#it has same amount of values you can reshape\n",
    "newtp = tp.reshape((8,1))\n",
    "newtp"
   ]
  },
  {
   "cell_type": "code",
   "execution_count": 92,
   "id": "307bf802",
   "metadata": {},
   "outputs": [
    {
     "data": {
      "text/plain": [
       "array([[ 1,  2,  3,  4,  5],\n",
       "       [11, 22, 33, 44, 55]])"
      ]
     },
     "execution_count": 92,
     "metadata": {},
     "output_type": "execute_result"
    }
   ],
   "source": [
    "#Vertical stacking\n",
    "x = np.array([1,2,3,4,5])\n",
    "y = np.array([11,22,33,44,55])\n",
    "\n",
    "np.vstack([x,y])"
   ]
  },
  {
   "cell_type": "code",
   "execution_count": 93,
   "id": "8015b78c",
   "metadata": {
    "scrolled": true
   },
   "outputs": [
    {
     "data": {
      "text/plain": [
       "array([[ 1,  2,  3,  4,  5],\n",
       "       [ 1,  2,  3,  4,  5],\n",
       "       [ 1,  2,  3,  4,  5],\n",
       "       [11, 22, 33, 44, 55],\n",
       "       [11, 22, 33, 44, 55]])"
      ]
     },
     "execution_count": 93,
     "metadata": {},
     "output_type": "execute_result"
    }
   ],
   "source": [
    "np.vstack([x,x,x,y,y])"
   ]
  },
  {
   "cell_type": "code",
   "execution_count": 94,
   "id": "b5102556",
   "metadata": {},
   "outputs": [
    {
     "data": {
      "text/plain": [
       "array([ 1,  2,  3,  4,  5, 11, 22, 33, 44, 55])"
      ]
     },
     "execution_count": 94,
     "metadata": {},
     "output_type": "execute_result"
    }
   ],
   "source": [
    "#horizontal stack\n",
    "np.hstack([x,y])"
   ]
  },
  {
   "cell_type": "code",
   "execution_count": 95,
   "id": "5c3e2dbc",
   "metadata": {},
   "outputs": [
    {
     "data": {
      "text/plain": [
       "array([ 1,  2,  3,  4,  5, 11, 22, 33, 44, 55, 11, 22, 33, 44, 55,  1,  2,\n",
       "        3,  4,  5])"
      ]
     },
     "execution_count": 95,
     "metadata": {},
     "output_type": "execute_result"
    }
   ],
   "source": [
    "np.hstack([x,y,y,x])"
   ]
  },
  {
   "cell_type": "markdown",
   "id": "952bb2a0",
   "metadata": {},
   "source": [
    "# Useful Numpy Functions"
   ]
  },
  {
   "cell_type": "markdown",
   "id": "80c7d0d2",
   "metadata": {},
   "source": [
    "### Random Function"
   ]
  },
  {
   "cell_type": "code",
   "execution_count": 96,
   "id": "db805a45",
   "metadata": {},
   "outputs": [
    {
     "data": {
      "text/plain": [
       "array([0.21296059, 0.42627933])"
      ]
     },
     "execution_count": 96,
     "metadata": {},
     "output_type": "execute_result"
    }
   ],
   "source": [
    "np.random.random(size=2)"
   ]
  },
  {
   "cell_type": "code",
   "execution_count": 97,
   "id": "baa0bac7",
   "metadata": {},
   "outputs": [
    {
     "data": {
      "text/plain": [
       "array([-1.5889994 , -1.01592675, -0.54099338])"
      ]
     },
     "execution_count": 97,
     "metadata": {},
     "output_type": "execute_result"
    }
   ],
   "source": [
    "np.random.normal(size=3) #for a array with random values "
   ]
  },
  {
   "cell_type": "code",
   "execution_count": 98,
   "id": "c81679b5",
   "metadata": {
    "scrolled": true
   },
   "outputs": [
    {
     "data": {
      "text/plain": [
       "array([[0.48062888, 0.66741266, 0.36102877, 0.4445192 ],\n",
       "       [0.02541115, 0.34203897, 0.65639395, 0.27435275]])"
      ]
     },
     "execution_count": 98,
     "metadata": {},
     "output_type": "execute_result"
    }
   ],
   "source": [
    "np.random.rand(2,4) #for 2d array containing random float values"
   ]
  },
  {
   "cell_type": "code",
   "execution_count": 99,
   "id": "9676d592",
   "metadata": {},
   "outputs": [
    {
     "data": {
      "text/plain": [
       "array([1, 1, 6, 4, 2])"
      ]
     },
     "execution_count": 99,
     "metadata": {},
     "output_type": "execute_result"
    }
   ],
   "source": [
    "np.random.randint(1,7,size=5) \n",
    "# used to simulate random events such as rolling a dice"
   ]
  },
  {
   "cell_type": "code",
   "execution_count": 100,
   "id": "3fb69f2d",
   "metadata": {},
   "outputs": [
    {
     "data": {
      "text/plain": [
       "array([5, 2, 4, 1, 2])"
      ]
     },
     "execution_count": 100,
     "metadata": {},
     "output_type": "execute_result"
    }
   ],
   "source": [
    "np.random.choice([1,2,3,4,5,6],size=5) \n",
    "#same as above but here we can change probability"
   ]
  },
  {
   "cell_type": "code",
   "execution_count": 101,
   "id": "d4d721c8",
   "metadata": {},
   "outputs": [
    {
     "data": {
      "text/plain": [
       "array([0, 0, 0, 1, 0])"
      ]
     },
     "execution_count": 101,
     "metadata": {},
     "output_type": "execute_result"
    }
   ],
   "source": [
    "np.random.choice([0,1],size=5,p=[0.9,0.1])\n",
    "#probabilities should sum up to 1 and no of probabilities = no of input"
   ]
  },
  {
   "cell_type": "markdown",
   "id": "0b3d5145",
   "metadata": {},
   "source": [
    "### arange function"
   ]
  },
  {
   "cell_type": "code",
   "execution_count": 102,
   "id": "67548323",
   "metadata": {},
   "outputs": [
    {
     "data": {
      "text/plain": [
       "array([5, 6, 7, 8, 9])"
      ]
     },
     "execution_count": 102,
     "metadata": {},
     "output_type": "execute_result"
    }
   ],
   "source": [
    "np.arange(5,10)"
   ]
  },
  {
   "cell_type": "code",
   "execution_count": 103,
   "id": "827fc299",
   "metadata": {},
   "outputs": [
    {
     "data": {
      "text/plain": [
       "array([1, 3, 5, 7, 9])"
      ]
     },
     "execution_count": 103,
     "metadata": {},
     "output_type": "execute_result"
    }
   ],
   "source": [
    "np.arange(1,11,2)#array by dropping 2nd element"
   ]
  },
  {
   "cell_type": "code",
   "execution_count": 104,
   "id": "c9d65002",
   "metadata": {},
   "outputs": [
    {
     "data": {
      "text/plain": [
       "array([0, 1, 2, 3, 4, 5, 6, 7, 8, 9])"
      ]
     },
     "execution_count": 104,
     "metadata": {},
     "output_type": "execute_result"
    }
   ],
   "source": [
    "np.arange(10)"
   ]
  },
  {
   "cell_type": "code",
   "execution_count": 105,
   "id": "570403ae",
   "metadata": {},
   "outputs": [
    {
     "data": {
      "text/plain": [
       "array([0. , 0.1, 0.2, 0.3, 0.4, 0.5, 0.6, 0.7, 0.8, 0.9])"
      ]
     },
     "execution_count": 105,
     "metadata": {},
     "output_type": "execute_result"
    }
   ],
   "source": [
    "np.arange(0,1,.1)"
   ]
  },
  {
   "cell_type": "code",
   "execution_count": 106,
   "id": "a15a6cf3",
   "metadata": {},
   "outputs": [
    {
     "data": {
      "text/plain": [
       "array([[0, 1, 2, 3, 4],\n",
       "       [5, 6, 7, 8, 9]])"
      ]
     },
     "execution_count": 106,
     "metadata": {},
     "output_type": "execute_result"
    }
   ],
   "source": [
    "np.arange(10).reshape(2,5)"
   ]
  },
  {
   "cell_type": "markdown",
   "id": "8eb947de",
   "metadata": {},
   "source": [
    "### linspace function\n",
    "returns evenly spaced numbers over a specified interval defined by the first two arguments of the function "
   ]
  },
  {
   "cell_type": "code",
   "execution_count": 107,
   "id": "b4037607",
   "metadata": {},
   "outputs": [
    {
     "data": {
      "text/plain": [
       "array([0.  , 0.25, 0.5 , 0.75, 1.  ])"
      ]
     },
     "execution_count": 107,
     "metadata": {},
     "output_type": "execute_result"
    }
   ],
   "source": [
    "np.linspace(0,1,5)"
   ]
  },
  {
   "cell_type": "code",
   "execution_count": 108,
   "id": "d32aaf14",
   "metadata": {},
   "outputs": [
    {
     "data": {
      "text/plain": [
       "array([ 0.        ,  1.11111111,  2.22222222,  3.33333333,  4.44444444,\n",
       "        5.55555556,  6.66666667,  7.77777778,  8.88888889, 10.        ])"
      ]
     },
     "execution_count": 108,
     "metadata": {},
     "output_type": "execute_result"
    }
   ],
   "source": [
    "np.linspace(0,10,10)"
   ]
  },
  {
   "cell_type": "code",
   "execution_count": 109,
   "id": "1562a717",
   "metadata": {
    "scrolled": true
   },
   "outputs": [
    {
     "data": {
      "text/plain": [
       "array([0., 1., 2., 3., 4., 5., 6., 7., 8., 9.])"
      ]
     },
     "execution_count": 109,
     "metadata": {},
     "output_type": "execute_result"
    }
   ],
   "source": [
    "np.linspace(0, 10, 10, False)"
   ]
  },
  {
   "cell_type": "markdown",
   "id": "66a3c04a",
   "metadata": {},
   "source": [
    "### Ones and zeros"
   ]
  },
  {
   "cell_type": "code",
   "execution_count": 110,
   "id": "dfaadf3d",
   "metadata": {},
   "outputs": [
    {
     "data": {
      "text/plain": [
       "array([0., 0., 0., 0., 0.])"
      ]
     },
     "execution_count": 110,
     "metadata": {},
     "output_type": "execute_result"
    }
   ],
   "source": [
    "np.zeros(5) #gives 5 zeros in an array"
   ]
  },
  {
   "cell_type": "code",
   "execution_count": 111,
   "id": "f5c0cf45",
   "metadata": {},
   "outputs": [
    {
     "data": {
      "text/plain": [
       "array([0., 0., 0., 0., 0.])"
      ]
     },
     "execution_count": 111,
     "metadata": {},
     "output_type": "execute_result"
    }
   ],
   "source": [
    "np.empty(5) #gives an array with all values as null/0"
   ]
  },
  {
   "cell_type": "code",
   "execution_count": 112,
   "id": "fbaf1da5",
   "metadata": {},
   "outputs": [
    {
     "data": {
      "text/plain": [
       "array([1., 1., 1., 1.])"
      ]
     },
     "execution_count": 112,
     "metadata": {},
     "output_type": "execute_result"
    }
   ],
   "source": [
    "np.ones(4)#gives 5 ones in an array"
   ]
  },
  {
   "cell_type": "code",
   "execution_count": 113,
   "id": "314ff22a",
   "metadata": {
    "scrolled": true
   },
   "outputs": [
    {
     "data": {
      "text/plain": [
       "array([[1., 1., 1.],\n",
       "       [1., 1., 1.]])"
      ]
     },
     "execution_count": 113,
     "metadata": {},
     "output_type": "execute_result"
    }
   ],
   "source": [
    "np.ones((2,3))"
   ]
  },
  {
   "cell_type": "markdown",
   "id": "86a85ebb",
   "metadata": {},
   "source": [
    "### Eye and Identity function"
   ]
  },
  {
   "cell_type": "code",
   "execution_count": 114,
   "id": "6ef745c4",
   "metadata": {},
   "outputs": [
    {
     "data": {
      "text/plain": [
       "array([[1., 0., 0.],\n",
       "       [0., 1., 0.],\n",
       "       [0., 0., 1.]])"
      ]
     },
     "execution_count": 114,
     "metadata": {},
     "output_type": "execute_result"
    }
   ],
   "source": [
    "np.identity(3) #gives an 3x3 identity matrix"
   ]
  },
  {
   "cell_type": "code",
   "execution_count": 115,
   "id": "4a64128e",
   "metadata": {},
   "outputs": [
    {
     "data": {
      "text/plain": [
       "array([[1., 0., 0.],\n",
       "       [0., 1., 0.],\n",
       "       [0., 0., 1.]])"
      ]
     },
     "execution_count": 115,
     "metadata": {},
     "output_type": "execute_result"
    }
   ],
   "source": [
    "np.eye(3,3) #gives an 3x3 identity matrix"
   ]
  },
  {
   "cell_type": "code",
   "execution_count": 116,
   "id": "daff2bfd",
   "metadata": {},
   "outputs": [
    {
     "data": {
      "text/plain": [
       "array([[1., 0., 0., 0.],\n",
       "       [0., 1., 0., 0.],\n",
       "       [0., 0., 1., 0.],\n",
       "       [0., 0., 0., 1.],\n",
       "       [0., 0., 0., 0.],\n",
       "       [0., 0., 0., 0.],\n",
       "       [0., 0., 0., 0.],\n",
       "       [0., 0., 0., 0.]])"
      ]
     },
     "execution_count": 116,
     "metadata": {},
     "output_type": "execute_result"
    }
   ],
   "source": [
    "np.eye(8, 4, k=0) #starts value of 1 from column k "
   ]
  },
  {
   "cell_type": "code",
   "execution_count": 117,
   "id": "22de0eca",
   "metadata": {
    "scrolled": true
   },
   "outputs": [
    {
     "data": {
      "text/plain": [
       "array([[0., 0., 0., 0.],\n",
       "       [1., 0., 0., 0.],\n",
       "       [0., 1., 0., 0.],\n",
       "       [0., 0., 1., 0.],\n",
       "       [0., 0., 0., 1.],\n",
       "       [0., 0., 0., 0.],\n",
       "       [0., 0., 0., 0.],\n",
       "       [0., 0., 0., 0.]])"
      ]
     },
     "execution_count": 117,
     "metadata": {},
     "output_type": "execute_result"
    }
   ],
   "source": [
    "np.eye(8, 4, k=-1)"
   ]
  },
  {
   "cell_type": "markdown",
   "id": "b49c526f",
   "metadata": {},
   "source": [
    "### Digitize Function\n",
    "?"
   ]
  },
  {
   "cell_type": "code",
   "execution_count": 118,
   "id": "aa92cf94",
   "metadata": {},
   "outputs": [],
   "source": [
    "bins = np.array([0,6])\n",
    "#remember bins must be monotonically increasing or decreasing"
   ]
  },
  {
   "cell_type": "code",
   "execution_count": 119,
   "id": "e357eb4c",
   "metadata": {},
   "outputs": [],
   "source": [
    "d = np.array([1,2,6,8])"
   ]
  },
  {
   "cell_type": "code",
   "execution_count": 120,
   "id": "6ea9f870",
   "metadata": {},
   "outputs": [
    {
     "data": {
      "text/plain": [
       "array([1, 1, 2, 2], dtype=int64)"
      ]
     },
     "execution_count": 120,
     "metadata": {},
     "output_type": "execute_result"
    }
   ],
   "source": [
    "np.digitize(d,bins)"
   ]
  },
  {
   "cell_type": "markdown",
   "id": "738323cf",
   "metadata": {},
   "source": [
    "### Repeat \n",
    "function repeats the elements of an array. The number of repetitions is specified by the second argument repeats"
   ]
  },
  {
   "cell_type": "code",
   "execution_count": 121,
   "id": "9790235c",
   "metadata": {},
   "outputs": [
    {
     "data": {
      "text/plain": [
       "array([3, 3, 3, 3, 3, 3, 3, 3, 3, 3])"
      ]
     },
     "execution_count": 121,
     "metadata": {},
     "output_type": "execute_result"
    }
   ],
   "source": [
    "np.repeat(3,10)"
   ]
  },
  {
   "cell_type": "markdown",
   "id": "78e362a1",
   "metadata": {},
   "source": [
    "### Binomial\n",
    "draws samples from a binomial distribution"
   ]
  },
  {
   "cell_type": "code",
   "execution_count": 122,
   "id": "3b13f7eb",
   "metadata": {},
   "outputs": [
    {
     "data": {
      "text/plain": [
       "3"
      ]
     },
     "execution_count": 122,
     "metadata": {},
     "output_type": "execute_result"
    }
   ],
   "source": [
    "#number of successes (number of heads) in 10 coin flips\n",
    "np.random.binomial(10,0.5)"
   ]
  },
  {
   "cell_type": "code",
   "execution_count": 123,
   "id": "cac24d2c",
   "metadata": {},
   "outputs": [],
   "source": [
    "#number of successes (number of heads) in 10 coin flips with 0.8 probability\n",
    "#and we can also obtain approximated probabilities by simulating a huge number of flips\n",
    "flips = np.random.binomial(10,0.8,size=int(100))"
   ]
  },
  {
   "cell_type": "code",
   "execution_count": 124,
   "id": "5917ac9a",
   "metadata": {
    "scrolled": true
   },
   "outputs": [
    {
     "data": {
      "text/plain": [
       "8.21"
      ]
     },
     "execution_count": 124,
     "metadata": {},
     "output_type": "execute_result"
    }
   ],
   "source": [
    "flips.mean()"
   ]
  },
  {
   "cell_type": "code",
   "execution_count": 125,
   "id": "fd3160f4",
   "metadata": {},
   "outputs": [
    {
     "data": {
      "text/plain": [
       "array([11, 14, 12, 15, 16])"
      ]
     },
     "execution_count": 125,
     "metadata": {},
     "output_type": "execute_result"
    }
   ],
   "source": [
    "a"
   ]
  },
  {
   "cell_type": "code",
   "execution_count": 126,
   "id": "d2e9504a",
   "metadata": {},
   "outputs": [
    {
     "data": {
      "text/plain": [
       "4"
      ]
     },
     "execution_count": 126,
     "metadata": {},
     "output_type": "execute_result"
    }
   ],
   "source": [
    "#returns the indices of the maximum values along an axis\n",
    "max_pos = np.argmax(a)\n",
    "max_pos"
   ]
  },
  {
   "cell_type": "markdown",
   "id": "0c80569d",
   "metadata": {},
   "source": [
    "### Make a matrix like - \n",
    "#### |1, 1, 1, 1, 1|\n",
    "#### |1, 0, 0 ,0 ,1|\n",
    "#### |1, 0 ,9, 0 ,1|\n",
    "#### |1, 1, 1, 1, 1|"
   ]
  },
  {
   "cell_type": "code",
   "execution_count": null,
   "id": "34a9ea61",
   "metadata": {},
   "outputs": [],
   "source": []
  },
  {
   "cell_type": "code",
   "execution_count": 127,
   "id": "a81baa57",
   "metadata": {},
   "outputs": [
    {
     "data": {
      "text/plain": [
       "array([[1., 1., 1., 1., 1.],\n",
       "       [1., 1., 1., 1., 1.],\n",
       "       [1., 1., 1., 1., 1.],\n",
       "       [1., 1., 1., 1., 1.],\n",
       "       [1., 1., 1., 1., 1.]])"
      ]
     },
     "execution_count": 127,
     "metadata": {},
     "output_type": "execute_result"
    }
   ],
   "source": [
    "output = np.ones((5,5))\n",
    "output"
   ]
  },
  {
   "cell_type": "code",
   "execution_count": 128,
   "id": "c33f418d",
   "metadata": {},
   "outputs": [
    {
     "data": {
      "text/plain": [
       "array([[0., 0., 0.],\n",
       "       [0., 0., 0.],\n",
       "       [0., 0., 0.]])"
      ]
     },
     "execution_count": 128,
     "metadata": {},
     "output_type": "execute_result"
    }
   ],
   "source": [
    "z = np.zeros((3,3))\n",
    "z"
   ]
  },
  {
   "cell_type": "code",
   "execution_count": 129,
   "id": "42a79a28",
   "metadata": {},
   "outputs": [
    {
     "data": {
      "text/plain": [
       "array([[0., 0., 0.],\n",
       "       [0., 9., 0.],\n",
       "       [0., 0., 0.]])"
      ]
     },
     "execution_count": 129,
     "metadata": {},
     "output_type": "execute_result"
    }
   ],
   "source": [
    "z[1,1] = 9\n",
    "z"
   ]
  },
  {
   "cell_type": "code",
   "execution_count": 130,
   "id": "9bf2b639",
   "metadata": {
    "scrolled": true
   },
   "outputs": [
    {
     "data": {
      "text/plain": [
       "array([[1., 1., 1., 1., 1.],\n",
       "       [1., 0., 0., 0., 1.],\n",
       "       [1., 0., 9., 0., 1.],\n",
       "       [1., 0., 0., 0., 1.],\n",
       "       [1., 1., 1., 1., 1.]])"
      ]
     },
     "execution_count": 130,
     "metadata": {},
     "output_type": "execute_result"
    }
   ],
   "source": [
    "output[1:-1,1:-1] = z\n",
    "output"
   ]
  },
  {
   "cell_type": "markdown",
   "id": "fb170355",
   "metadata": {},
   "source": [
    "#### Indexing exercise"
   ]
  },
  {
   "attachments": {
    "image.png": {
     "image/png": "[encoded data removed]"
    }
   },
   "cell_type": "markdown",
   "id": "34c8507f",
   "metadata": {},
   "source": [
    "![image.png](attachment:image.png)"
   ]
  }
 ],
 "metadata": {
  "kernelspec": {
   "display_name": "Python 3 (ipykernel)",
   "language": "python",
   "name": "python3"
  },
  "language_info": {
   "codemirror_mode": {
    "name": "ipython",
    "version": 3
   },
   "file_extension": ".py",
   "mimetype": "text/x-python",
   "name": "python",
   "nbconvert_exporter": "python",
   "pygments_lexer": "ipython3",
   "version": "3.9.12"
  }
 },
 "nbformat": 4,
 "nbformat_minor": 5
}
